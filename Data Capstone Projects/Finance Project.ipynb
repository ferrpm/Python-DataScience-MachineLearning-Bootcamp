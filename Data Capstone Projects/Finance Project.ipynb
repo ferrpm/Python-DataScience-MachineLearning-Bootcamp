{
 "cells": [
  {
   "cell_type": "markdown",
   "metadata": {},
   "source": [
    "___\n",
    "\n",
    "<a href='http://www.pieriandata.com'> <img src='../Pierian_Data_Logo.png' /></a>\n",
    "___"
   ]
  },
  {
   "cell_type": "markdown",
   "metadata": {},
   "source": [
    "# Finance Data Project \n",
    "\n",
    "In this data project we will focus on exploratory data analysis of stock prices. Keep in mind, this project is just meant to practice your visualization and pandas skills, it is not meant to be a robust financial analysis or be taken as financial advice.\n",
    "____\n",
    "** NOTE: This project is extremely challenging because it will introduce a lot of new concepts and have you looking things up on your own (we'll point you in the right direction) to try to solve the tasks issued. Feel free to just go through the solutions lecture notebook and video as a \"walkthrough\" project if you don't want to have to look things up yourself. You'll still learn a lot that way! **\n",
    "____\n",
    "We'll focus on bank stocks and see how they progressed throughout the [financial crisis](https://en.wikipedia.org/wiki/Financial_crisis_of_2007%E2%80%9308) all the way to early 2016."
   ]
  },
  {
   "cell_type": "markdown",
   "metadata": {},
   "source": [
    "## Get the Data\n",
    "\n",
    "In this section we will learn how to use pandas to directly read data from Google finance using pandas!\n",
    "\n",
    "First we need to start with the proper imports, which we've already laid out for you here.\n",
    "\n",
    "*Note: [You'll need to install pandas-datareader for this to work!](https://github.com/pydata/pandas-datareader) Pandas datareader allows you to [read stock information directly from the internet](http://pandas.pydata.org/pandas-docs/stable/remote_data.html) Use these links for install guidance (**pip install pandas-datareader**), or just follow along with the video lecture.*\n",
    "\n",
    "### The Imports\n",
    "\n",
    "Already filled out for you."
   ]
  },
  {
   "cell_type": "code",
   "execution_count": 64,
   "metadata": {},
   "outputs": [],
   "source": [
    "import pandas as pd\n",
    "import numpy as np\n",
    "from pandas.api.types import is_list_like\n",
    "from pandas_datareader import data, wb\n",
    "from datetime import datetime\n",
    "import pandas_datareader as pdr"
   ]
  },
  {
   "cell_type": "markdown",
   "metadata": {},
   "source": [
    "## Data\n",
    "\n",
    "We need to get data using pandas datareader. We will get stock information for the following banks:\n",
    "*  Bank of America\n",
    "* CitiGroup\n",
    "* Goldman Sachs\n",
    "* JPMorgan Chase\n",
    "* Morgan Stanley\n",
    "* Wells Fargo\n",
    "\n",
    "** Figure out how to get the stock data from Jan 1st 2006 to Jan 1st 2016 for each of these banks. Set each bank to be a separate dataframe, with the variable name for that bank being its ticker symbol. This will involve a few steps:**\n",
    "1. Use datetime to set start and end datetime objects.\n",
    "2. Figure out the ticker symbol for each bank.\n",
    "2. Figure out how to use datareader to grab info on the stock.\n",
    "\n",
    "** Use [this documentation page](https://pandas-datareader.readthedocs.io/en/latest/remote_data.html) for hints and instructions (it should just be a matter of replacing certain values. Use google finance as a source, for example:**\n",
    "    \n",
    "    # Bank of America\n",
    "    BAC = data.DataReader(\"BAC\", 'google', start, end)\n",
    "\n",
    "### WARNING: MAKE SURE TO CHECK THE LINK ABOVE FOR THE LATEST WORKING API. \"google\" MAY NOT ALWAYS WORK. \n",
    "------------\n",
    "### We also provide pickle file in the article lecture right before the video lectures."
   ]
  },
  {
   "cell_type": "code",
   "execution_count": null,
   "metadata": {
    "collapsed": true,
    "jupyter": {
     "outputs_hidden": true
    }
   },
   "outputs": [],
   "source": []
  },
  {
   "cell_type": "code",
   "execution_count": 77,
   "metadata": {},
   "outputs": [],
   "source": [
    "start_date = '2006-01-01'\n",
    "end_date = '2016-01-01'\n",
    "\n",
    "# Bank of America\n",
    "BAC = data.DataReader('BAC', 'stooq', start=start_date, end=end_date)\n",
    "# CitiGroup\n",
    "C = data.DataReader('C', 'stooq', start=start_date, end=end_date)\n",
    "# Goldman Sachs\n",
    "GS = data.DataReader('GS', 'stooq', start=start_date, end=end_date)\n",
    "# JPMorgan Chase\n",
    "JPM = data.DataReader('JPM', 'stooq', start=start_date, end=end_date)\n",
    "# Morgan Stanley\n",
    "MS = data.DataReader('MS', 'stooq', start=start_date, end=end_date)\n",
    "# Wells Fargo\n",
    "WFC = data.DataReader('WF', 'stooq', start=start_date, end=end_date)"
   ]
  },
  {
   "cell_type": "markdown",
   "metadata": {},
   "source": [
    "** Create a list of the ticker symbols (as strings) in alphabetical order. Call this list: tickers**"
   ]
  },
  {
   "cell_type": "code",
   "execution_count": 79,
   "metadata": {},
   "outputs": [],
   "source": [
    "tickers = ['BAC','C','GS','JPM','MS','WFC']"
   ]
  },
  {
   "cell_type": "markdown",
   "metadata": {},
   "source": [
    "** Use pd.concat to concatenate the bank dataframes together to a single data frame called bank_stocks. Set the keys argument equal to the tickers list. Also pay attention to what axis you concatenate on.**"
   ]
  },
  {
   "cell_type": "code",
   "execution_count": 90,
   "metadata": {},
   "outputs": [
    {
     "data": {
      "text/html": [
       "<div>\n",
       "<style scoped>\n",
       "    .dataframe tbody tr th:only-of-type {\n",
       "        vertical-align: middle;\n",
       "    }\n",
       "\n",
       "    .dataframe tbody tr th {\n",
       "        vertical-align: top;\n",
       "    }\n",
       "\n",
       "    .dataframe thead tr th {\n",
       "        text-align: left;\n",
       "    }\n",
       "</style>\n",
       "<table border=\"1\" class=\"dataframe\">\n",
       "  <thead>\n",
       "    <tr>\n",
       "      <th></th>\n",
       "      <th colspan=\"5\" halign=\"left\">BAC</th>\n",
       "      <th colspan=\"5\" halign=\"left\">C</th>\n",
       "      <th>...</th>\n",
       "      <th colspan=\"5\" halign=\"left\">JPM</th>\n",
       "      <th colspan=\"5\" halign=\"left\">MS</th>\n",
       "    </tr>\n",
       "    <tr>\n",
       "      <th></th>\n",
       "      <th>Open</th>\n",
       "      <th>High</th>\n",
       "      <th>Low</th>\n",
       "      <th>Close</th>\n",
       "      <th>Volume</th>\n",
       "      <th>Open</th>\n",
       "      <th>High</th>\n",
       "      <th>Low</th>\n",
       "      <th>Close</th>\n",
       "      <th>Volume</th>\n",
       "      <th>...</th>\n",
       "      <th>Open</th>\n",
       "      <th>High</th>\n",
       "      <th>Low</th>\n",
       "      <th>Close</th>\n",
       "      <th>Volume</th>\n",
       "      <th>Open</th>\n",
       "      <th>High</th>\n",
       "      <th>Low</th>\n",
       "      <th>Close</th>\n",
       "      <th>Volume</th>\n",
       "    </tr>\n",
       "  </thead>\n",
       "  <tbody>\n",
       "    <tr>\n",
       "      <th>2015-12-31 00:00:00</th>\n",
       "      <td>14.7814</td>\n",
       "      <td>14.8325</td>\n",
       "      <td>14.6233</td>\n",
       "      <td>14.6233</td>\n",
       "      <td>5.417059e+07</td>\n",
       "      <td>43.3773</td>\n",
       "      <td>43.6426</td>\n",
       "      <td>43.1101</td>\n",
       "      <td>43.1101</td>\n",
       "      <td>1.353052e+07</td>\n",
       "      <td>...</td>\n",
       "      <td>54.3802</td>\n",
       "      <td>54.8616</td>\n",
       "      <td>54.2220</td>\n",
       "      <td>54.2504</td>\n",
       "      <td>1.783536e+07</td>\n",
       "      <td>26.6023</td>\n",
       "      <td>26.9300</td>\n",
       "      <td>26.4865</td>\n",
       "      <td>26.5229</td>\n",
       "      <td>9.773893e+06</td>\n",
       "    </tr>\n",
       "    <tr>\n",
       "      <th>2015-12-30 00:00:00</th>\n",
       "      <td>14.9473</td>\n",
       "      <td>14.9807</td>\n",
       "      <td>14.8070</td>\n",
       "      <td>14.8168</td>\n",
       "      <td>4.030734e+07</td>\n",
       "      <td>44.0205</td>\n",
       "      <td>44.1027</td>\n",
       "      <td>43.5291</td>\n",
       "      <td>43.5692</td>\n",
       "      <td>1.051787e+07</td>\n",
       "      <td>...</td>\n",
       "      <td>55.0767</td>\n",
       "      <td>55.0836</td>\n",
       "      <td>54.5904</td>\n",
       "      <td>54.7072</td>\n",
       "      <td>8.751596e+06</td>\n",
       "      <td>27.0998</td>\n",
       "      <td>27.2194</td>\n",
       "      <td>26.8476</td>\n",
       "      <td>26.8721</td>\n",
       "      <td>6.065510e+06</td>\n",
       "    </tr>\n",
       "    <tr>\n",
       "      <th>2015-12-29 00:00:00</th>\n",
       "      <td>14.9897</td>\n",
       "      <td>15.0780</td>\n",
       "      <td>14.9130</td>\n",
       "      <td>15.0131</td>\n",
       "      <td>5.251059e+07</td>\n",
       "      <td>43.9520</td>\n",
       "      <td>44.3357</td>\n",
       "      <td>43.9344</td>\n",
       "      <td>44.1369</td>\n",
       "      <td>1.218830e+07</td>\n",
       "      <td>...</td>\n",
       "      <td>54.9126</td>\n",
       "      <td>55.2889</td>\n",
       "      <td>54.8301</td>\n",
       "      <td>55.0983</td>\n",
       "      <td>1.195386e+07</td>\n",
       "      <td>27.0448</td>\n",
       "      <td>27.2656</td>\n",
       "      <td>26.9506</td>\n",
       "      <td>27.1380</td>\n",
       "      <td>7.661993e+06</td>\n",
       "    </tr>\n",
       "    <tr>\n",
       "      <th>2015-12-28 00:00:00</th>\n",
       "      <td>14.9630</td>\n",
       "      <td>14.9720</td>\n",
       "      <td>14.7539</td>\n",
       "      <td>14.8846</td>\n",
       "      <td>4.803435e+07</td>\n",
       "      <td>43.7934</td>\n",
       "      <td>43.7934</td>\n",
       "      <td>43.2863</td>\n",
       "      <td>43.6347</td>\n",
       "      <td>1.051593e+07</td>\n",
       "      <td>...</td>\n",
       "      <td>54.4588</td>\n",
       "      <td>54.5904</td>\n",
       "      <td>53.9842</td>\n",
       "      <td>54.5364</td>\n",
       "      <td>8.046338e+06</td>\n",
       "      <td>26.9820</td>\n",
       "      <td>26.9820</td>\n",
       "      <td>26.6377</td>\n",
       "      <td>26.8211</td>\n",
       "      <td>6.501028e+06</td>\n",
       "    </tr>\n",
       "    <tr>\n",
       "      <th>2015-12-24 00:00:00</th>\n",
       "      <td>15.0495</td>\n",
       "      <td>15.1035</td>\n",
       "      <td>14.9630</td>\n",
       "      <td>15.0063</td>\n",
       "      <td>3.380344e+07</td>\n",
       "      <td>43.7209</td>\n",
       "      <td>44.1281</td>\n",
       "      <td>43.6954</td>\n",
       "      <td>43.9089</td>\n",
       "      <td>5.607320e+06</td>\n",
       "      <td>...</td>\n",
       "      <td>54.7338</td>\n",
       "      <td>54.9529</td>\n",
       "      <td>54.4862</td>\n",
       "      <td>54.7162</td>\n",
       "      <td>5.438811e+06</td>\n",
       "      <td>27.1547</td>\n",
       "      <td>27.2734</td>\n",
       "      <td>27.0448</td>\n",
       "      <td>27.0811</td>\n",
       "      <td>3.356089e+06</td>\n",
       "    </tr>\n",
       "  </tbody>\n",
       "</table>\n",
       "<p>5 rows × 25 columns</p>\n",
       "</div>"
      ],
      "text/plain": [
       "                         BAC                                           \\\n",
       "                        Open     High      Low    Close        Volume   \n",
       "2015-12-31 00:00:00  14.7814  14.8325  14.6233  14.6233  5.417059e+07   \n",
       "2015-12-30 00:00:00  14.9473  14.9807  14.8070  14.8168  4.030734e+07   \n",
       "2015-12-29 00:00:00  14.9897  15.0780  14.9130  15.0131  5.251059e+07   \n",
       "2015-12-28 00:00:00  14.9630  14.9720  14.7539  14.8846  4.803435e+07   \n",
       "2015-12-24 00:00:00  15.0495  15.1035  14.9630  15.0063  3.380344e+07   \n",
       "\n",
       "                           C                                           ...  \\\n",
       "                        Open     High      Low    Close        Volume  ...   \n",
       "2015-12-31 00:00:00  43.3773  43.6426  43.1101  43.1101  1.353052e+07  ...   \n",
       "2015-12-30 00:00:00  44.0205  44.1027  43.5291  43.5692  1.051787e+07  ...   \n",
       "2015-12-29 00:00:00  43.9520  44.3357  43.9344  44.1369  1.218830e+07  ...   \n",
       "2015-12-28 00:00:00  43.7934  43.7934  43.2863  43.6347  1.051593e+07  ...   \n",
       "2015-12-24 00:00:00  43.7209  44.1281  43.6954  43.9089  5.607320e+06  ...   \n",
       "\n",
       "                         JPM                                           \\\n",
       "                        Open     High      Low    Close        Volume   \n",
       "2015-12-31 00:00:00  54.3802  54.8616  54.2220  54.2504  1.783536e+07   \n",
       "2015-12-30 00:00:00  55.0767  55.0836  54.5904  54.7072  8.751596e+06   \n",
       "2015-12-29 00:00:00  54.9126  55.2889  54.8301  55.0983  1.195386e+07   \n",
       "2015-12-28 00:00:00  54.4588  54.5904  53.9842  54.5364  8.046338e+06   \n",
       "2015-12-24 00:00:00  54.7338  54.9529  54.4862  54.7162  5.438811e+06   \n",
       "\n",
       "                          MS                                           \n",
       "                        Open     High      Low    Close        Volume  \n",
       "2015-12-31 00:00:00  26.6023  26.9300  26.4865  26.5229  9.773893e+06  \n",
       "2015-12-30 00:00:00  27.0998  27.2194  26.8476  26.8721  6.065510e+06  \n",
       "2015-12-29 00:00:00  27.0448  27.2656  26.9506  27.1380  7.661993e+06  \n",
       "2015-12-28 00:00:00  26.9820  26.9820  26.6377  26.8211  6.501028e+06  \n",
       "2015-12-24 00:00:00  27.1547  27.2734  27.0448  27.0811  3.356089e+06  \n",
       "\n",
       "[5 rows x 25 columns]"
      ]
     },
     "execution_count": 90,
     "metadata": {},
     "output_type": "execute_result"
    }
   ],
   "source": [
    "bank_stocks = pd.concat([BAC, C, GS, JPM, MS, WFC],axis=1,keys=tickers)\n",
    "bank_stocks.head()"
   ]
  },
  {
   "cell_type": "markdown",
   "metadata": {},
   "source": [
    "** Set the column name levels (this is filled out for you):**"
   ]
  },
  {
   "cell_type": "code",
   "execution_count": 70,
   "metadata": {},
   "outputs": [
    {
     "ename": "NameError",
     "evalue": "name 'bank_stocks' is not defined",
     "output_type": "error",
     "traceback": [
      "\u001b[1;31m---------------------------------------------------------------------------\u001b[0m",
      "\u001b[1;31mNameError\u001b[0m                                 Traceback (most recent call last)",
      "Cell \u001b[1;32mIn[70], line 1\u001b[0m\n\u001b[1;32m----> 1\u001b[0m bank_stocks\u001b[38;5;241m.\u001b[39mcolumns\u001b[38;5;241m.\u001b[39mnames \u001b[38;5;241m=\u001b[39m [\u001b[38;5;124m'\u001b[39m\u001b[38;5;124mBank Ticker\u001b[39m\u001b[38;5;124m'\u001b[39m,\u001b[38;5;124m'\u001b[39m\u001b[38;5;124mStock Info\u001b[39m\u001b[38;5;124m'\u001b[39m]\n",
      "\u001b[1;31mNameError\u001b[0m: name 'bank_stocks' is not defined"
     ]
    }
   ],
   "source": [
    "bank_stocks.columns.names = ['Bank Ticker','Stock Info']"
   ]
  },
  {
   "cell_type": "markdown",
   "metadata": {},
   "source": [
    "** Check the head of the bank_stocks dataframe.**"
   ]
  },
  {
   "cell_type": "code",
   "execution_count": null,
   "metadata": {},
   "outputs": [],
   "source": []
  },
  {
   "cell_type": "markdown",
   "metadata": {},
   "source": [
    "# EDA\n",
    "\n",
    "Let's explore the data a bit! Before continuing, I encourage you to check out the documentation on [Multi-Level Indexing](http://pandas.pydata.org/pandas-docs/stable/advanced.html) and [Using .xs](http://pandas.pydata.org/pandas-docs/stable/generated/pandas.DataFrame.xs.html).\n",
    "Reference the solutions if you can not figure out how to use .xs(), since that will be a major part of this project.\n",
    "\n",
    "** What is the max Close price for each bank's stock throughout the time period?**"
   ]
  },
  {
   "cell_type": "code",
   "execution_count": null,
   "metadata": {},
   "outputs": [],
   "source": []
  },
  {
   "cell_type": "markdown",
   "metadata": {},
   "source": [
    "** Create a new empty DataFrame called returns. This dataframe will contain the returns for each bank's stock. returns are typically defined by:**\n",
    "\n",
    "$$r_t = \\frac{p_t - p_{t-1}}{p_{t-1}} = \\frac{p_t}{p_{t-1}} - 1$$"
   ]
  },
  {
   "cell_type": "code",
   "execution_count": null,
   "metadata": {
    "collapsed": true,
    "jupyter": {
     "outputs_hidden": true
    }
   },
   "outputs": [],
   "source": []
  },
  {
   "cell_type": "markdown",
   "metadata": {},
   "source": [
    "** We can use pandas pct_change() method on the Close column to create a column representing this return value. Create a for loop that goes and for each Bank Stock Ticker creates this returns column and set's it as a column in the returns DataFrame.**"
   ]
  },
  {
   "cell_type": "code",
   "execution_count": null,
   "metadata": {},
   "outputs": [],
   "source": []
  },
  {
   "cell_type": "markdown",
   "metadata": {},
   "source": [
    "** Create a pairplot using seaborn of the returns dataframe. What stock stands out to you? Can you figure out why?**"
   ]
  },
  {
   "cell_type": "code",
   "execution_count": null,
   "metadata": {},
   "outputs": [],
   "source": []
  },
  {
   "cell_type": "markdown",
   "metadata": {},
   "source": [
    "* See solution for details about Citigroup behavior...."
   ]
  },
  {
   "cell_type": "markdown",
   "metadata": {},
   "source": [
    "** Using this returns DataFrame, figure out on what dates each bank stock had the best and worst single day returns. You should notice that 4 of the banks share the same day for the worst drop, did anything significant happen that day?**"
   ]
  },
  {
   "cell_type": "code",
   "execution_count": null,
   "metadata": {},
   "outputs": [],
   "source": []
  },
  {
   "cell_type": "markdown",
   "metadata": {},
   "source": [
    "** You should have noticed that Citigroup's largest drop and biggest gain were very close to one another, did anythign significant happen in that time frame? **"
   ]
  },
  {
   "cell_type": "markdown",
   "metadata": {},
   "source": [
    "* See Solution for details"
   ]
  },
  {
   "cell_type": "code",
   "execution_count": null,
   "metadata": {},
   "outputs": [],
   "source": []
  },
  {
   "cell_type": "markdown",
   "metadata": {},
   "source": [
    "** Take a look at the standard deviation of the returns, which stock would you classify as the riskiest over the entire time period? Which would you classify as the riskiest for the year 2015?**"
   ]
  },
  {
   "cell_type": "code",
   "execution_count": null,
   "metadata": {},
   "outputs": [],
   "source": []
  },
  {
   "cell_type": "code",
   "execution_count": null,
   "metadata": {},
   "outputs": [],
   "source": []
  },
  {
   "cell_type": "markdown",
   "metadata": {},
   "source": [
    "** Create a distplot using seaborn of the 2015 returns for Morgan Stanley **"
   ]
  },
  {
   "cell_type": "code",
   "execution_count": null,
   "metadata": {},
   "outputs": [],
   "source": []
  },
  {
   "cell_type": "markdown",
   "metadata": {},
   "source": [
    "** Create a distplot using seaborn of the 2008 returns for CitiGroup **"
   ]
  },
  {
   "cell_type": "code",
   "execution_count": null,
   "metadata": {},
   "outputs": [],
   "source": []
  },
  {
   "cell_type": "markdown",
   "metadata": {},
   "source": [
    "____\n",
    "# More Visualization\n",
    "\n",
    "A lot of this project will focus on visualizations. Feel free to use any of your preferred visualization libraries to try to recreate the described plots below, seaborn, matplotlib, plotly and cufflinks, or just pandas.\n",
    "\n",
    "### Imports"
   ]
  },
  {
   "cell_type": "code",
   "execution_count": null,
   "metadata": {},
   "outputs": [],
   "source": [
    "import matplotlib.pyplot as plt\n",
    "import seaborn as sns\n",
    "sns.set_style('whitegrid')\n",
    "%matplotlib inline\n",
    "\n",
    "# Optional Plotly Method Imports\n",
    "import plotly\n",
    "import cufflinks as cf\n",
    "cf.go_offline()"
   ]
  },
  {
   "cell_type": "markdown",
   "metadata": {},
   "source": [
    "** Create a line plot showing Close price for each bank for the entire index of time. (Hint: Try using a for loop, or use [.xs](http://pandas.pydata.org/pandas-docs/stable/generated/pandas.DataFrame.xs.html) to get a cross section of the data.)**"
   ]
  },
  {
   "cell_type": "code",
   "execution_count": null,
   "metadata": {},
   "outputs": [],
   "source": []
  },
  {
   "cell_type": "code",
   "execution_count": null,
   "metadata": {},
   "outputs": [],
   "source": []
  },
  {
   "cell_type": "code",
   "execution_count": null,
   "metadata": {},
   "outputs": [],
   "source": []
  },
  {
   "cell_type": "markdown",
   "metadata": {},
   "source": [
    "## Moving Averages\n",
    "\n",
    "Let's analyze the moving averages for these stocks in the year 2008. \n",
    "\n",
    "** Plot the rolling 30 day average against the Close Price for Bank Of America's stock for the year 2008**"
   ]
  },
  {
   "cell_type": "code",
   "execution_count": null,
   "metadata": {},
   "outputs": [],
   "source": []
  },
  {
   "cell_type": "markdown",
   "metadata": {},
   "source": [
    "** Create a heatmap of the correlation between the stocks Close Price.**"
   ]
  },
  {
   "cell_type": "code",
   "execution_count": null,
   "metadata": {},
   "outputs": [],
   "source": []
  },
  {
   "cell_type": "markdown",
   "metadata": {},
   "source": [
    "** Optional: Use seaborn's clustermap to cluster the correlations together:**"
   ]
  },
  {
   "cell_type": "code",
   "execution_count": null,
   "metadata": {},
   "outputs": [],
   "source": []
  },
  {
   "cell_type": "code",
   "execution_count": null,
   "metadata": {},
   "outputs": [],
   "source": []
  },
  {
   "cell_type": "markdown",
   "metadata": {},
   "source": [
    "# Part 2 (Optional)\n",
    "\n",
    "In this second part of the project we will rely on the cufflinks library to create some Technical Analysis plots. This part of the project is experimental due to its heavy reliance on the cuffinks project, so feel free to skip it if any functionality is broken in the future."
   ]
  },
  {
   "cell_type": "markdown",
   "metadata": {
    "collapsed": true,
    "jupyter": {
     "outputs_hidden": true
    }
   },
   "source": [
    "** Use .iplot(kind='candle) to create a candle plot of Bank of America's stock from Jan 1st 2015 to Jan 1st 2016.**"
   ]
  },
  {
   "cell_type": "code",
   "execution_count": null,
   "metadata": {},
   "outputs": [],
   "source": []
  },
  {
   "cell_type": "markdown",
   "metadata": {},
   "source": [
    "** Use .ta_plot(study='sma') to create a Simple Moving Averages plot of Morgan Stanley for the year 2015.**"
   ]
  },
  {
   "cell_type": "code",
   "execution_count": null,
   "metadata": {},
   "outputs": [],
   "source": []
  },
  {
   "cell_type": "markdown",
   "metadata": {},
   "source": [
    "**Use .ta_plot(study='boll') to create a Bollinger Band Plot for Bank of America for the year 2015.**"
   ]
  },
  {
   "cell_type": "code",
   "execution_count": null,
   "metadata": {},
   "outputs": [],
   "source": []
  },
  {
   "cell_type": "markdown",
   "metadata": {},
   "source": [
    "# Great Job!\n",
    "\n",
    "Definitely a lot of more specific finance topics here, so don't worry if you didn't understand them all! The only thing you should be concerned with understanding are the basic pandas and visualization oeprations."
   ]
  }
 ],
 "metadata": {
  "kernelspec": {
   "display_name": "Python 3 (ipykernel)",
   "language": "python",
   "name": "python3"
  },
  "language_info": {
   "codemirror_mode": {
    "name": "ipython",
    "version": 3
   },
   "file_extension": ".py",
   "mimetype": "text/x-python",
   "name": "python",
   "nbconvert_exporter": "python",
   "pygments_lexer": "ipython3",
   "version": "3.12.4"
  }
 },
 "nbformat": 4,
 "nbformat_minor": 4
}
